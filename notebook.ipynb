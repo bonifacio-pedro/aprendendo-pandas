{
 "cells": [
  {
   "metadata": {},
   "cell_type": "markdown",
   "source": "# Conhecendo a base de dados",
   "id": "2eed5a90f05c84cc"
  },
  {
   "metadata": {},
   "cell_type": "markdown",
   "source": "## Importando os dados",
   "id": "a962acc06a1d5ae7"
  },
  {
   "metadata": {
    "ExecuteTime": {
     "end_time": "2024-06-02T22:19:48.580883Z",
     "start_time": "2024-06-02T22:18:52.910126Z"
    }
   },
   "cell_type": "code",
   "source": [
    "import pandas as pd\n",
    "\n",
    "# Alguns df's não vem com o separador padrão, então temos que setar qual é \n",
    "df = pd.read_csv(\"https://raw.githubusercontent.com/alura-cursos/pandas-conhecendo-a-biblioteca/main/base-de-dados/aluguel.csv\", sep=\";\")\n",
    "df.head()"
   ],
   "id": "cbef422477c71865",
   "outputs": [
    {
     "data": {
      "text/plain": [
       "                      Tipo           Bairro  Quartos  Vagas  Suites  Area  \\\n",
       "0                Quitinete       Copacabana        1      0       0    40   \n",
       "1                     Casa  Jardim Botânico        2      0       1   100   \n",
       "2  Conjunto Comercial/Sala  Barra da Tijuca        0      4       0   150   \n",
       "3              Apartamento           Centro        1      0       0    15   \n",
       "4              Apartamento     Higienópolis        1      0       0    48   \n",
       "\n",
       "    Valor  Condominio    IPTU  \n",
       "0  1700.0       500.0    60.0  \n",
       "1  7000.0         NaN     NaN  \n",
       "2  5200.0      4020.0  1111.0  \n",
       "3   800.0       390.0    20.0  \n",
       "4   800.0       230.0     NaN  "
      ],
      "text/html": [
       "<div>\n",
       "<style scoped>\n",
       "    .dataframe tbody tr th:only-of-type {\n",
       "        vertical-align: middle;\n",
       "    }\n",
       "\n",
       "    .dataframe tbody tr th {\n",
       "        vertical-align: top;\n",
       "    }\n",
       "\n",
       "    .dataframe thead th {\n",
       "        text-align: right;\n",
       "    }\n",
       "</style>\n",
       "<table border=\"1\" class=\"dataframe\">\n",
       "  <thead>\n",
       "    <tr style=\"text-align: right;\">\n",
       "      <th></th>\n",
       "      <th>Tipo</th>\n",
       "      <th>Bairro</th>\n",
       "      <th>Quartos</th>\n",
       "      <th>Vagas</th>\n",
       "      <th>Suites</th>\n",
       "      <th>Area</th>\n",
       "      <th>Valor</th>\n",
       "      <th>Condominio</th>\n",
       "      <th>IPTU</th>\n",
       "    </tr>\n",
       "  </thead>\n",
       "  <tbody>\n",
       "    <tr>\n",
       "      <th>0</th>\n",
       "      <td>Quitinete</td>\n",
       "      <td>Copacabana</td>\n",
       "      <td>1</td>\n",
       "      <td>0</td>\n",
       "      <td>0</td>\n",
       "      <td>40</td>\n",
       "      <td>1700.0</td>\n",
       "      <td>500.0</td>\n",
       "      <td>60.0</td>\n",
       "    </tr>\n",
       "    <tr>\n",
       "      <th>1</th>\n",
       "      <td>Casa</td>\n",
       "      <td>Jardim Botânico</td>\n",
       "      <td>2</td>\n",
       "      <td>0</td>\n",
       "      <td>1</td>\n",
       "      <td>100</td>\n",
       "      <td>7000.0</td>\n",
       "      <td>NaN</td>\n",
       "      <td>NaN</td>\n",
       "    </tr>\n",
       "    <tr>\n",
       "      <th>2</th>\n",
       "      <td>Conjunto Comercial/Sala</td>\n",
       "      <td>Barra da Tijuca</td>\n",
       "      <td>0</td>\n",
       "      <td>4</td>\n",
       "      <td>0</td>\n",
       "      <td>150</td>\n",
       "      <td>5200.0</td>\n",
       "      <td>4020.0</td>\n",
       "      <td>1111.0</td>\n",
       "    </tr>\n",
       "    <tr>\n",
       "      <th>3</th>\n",
       "      <td>Apartamento</td>\n",
       "      <td>Centro</td>\n",
       "      <td>1</td>\n",
       "      <td>0</td>\n",
       "      <td>0</td>\n",
       "      <td>15</td>\n",
       "      <td>800.0</td>\n",
       "      <td>390.0</td>\n",
       "      <td>20.0</td>\n",
       "    </tr>\n",
       "    <tr>\n",
       "      <th>4</th>\n",
       "      <td>Apartamento</td>\n",
       "      <td>Higienópolis</td>\n",
       "      <td>1</td>\n",
       "      <td>0</td>\n",
       "      <td>0</td>\n",
       "      <td>48</td>\n",
       "      <td>800.0</td>\n",
       "      <td>230.0</td>\n",
       "      <td>NaN</td>\n",
       "    </tr>\n",
       "  </tbody>\n",
       "</table>\n",
       "</div>"
      ]
     },
     "execution_count": 108,
     "metadata": {},
     "output_type": "execute_result"
    }
   ],
   "execution_count": 108
  },
  {
   "metadata": {},
   "cell_type": "markdown",
   "source": "## Características gerais dos dados",
   "id": "78a4530fc344053b"
  },
  {
   "metadata": {
    "ExecuteTime": {
     "end_time": "2024-06-02T22:19:56.046333Z",
     "start_time": "2024-06-02T22:19:56.039906Z"
    }
   },
   "cell_type": "code",
   "source": [
    "# Analisando as linhas e colunas\n",
    "f'Linhas: {df.shape[0]}, Colunas: {df.shape[1]}'"
   ],
   "id": "77f9ad106eb23834",
   "outputs": [
    {
     "data": {
      "text/plain": [
       "'Linhas: 32960, Colunas: 9'"
      ]
     },
     "execution_count": 109,
     "metadata": {},
     "output_type": "execute_result"
    }
   ],
   "execution_count": 109
  },
  {
   "metadata": {
    "ExecuteTime": {
     "end_time": "2024-06-02T22:19:56.722383Z",
     "start_time": "2024-06-02T22:19:56.716734Z"
    }
   },
   "cell_type": "code",
   "source": [
    "# Analisando as colunas\n",
    "df.columns"
   ],
   "id": "482b46ffd45ededc",
   "outputs": [
    {
     "data": {
      "text/plain": [
       "Index(['Tipo', 'Bairro', 'Quartos', 'Vagas', 'Suites', 'Area', 'Valor',\n",
       "       'Condominio', 'IPTU'],\n",
       "      dtype='object')"
      ]
     },
     "execution_count": 110,
     "metadata": {},
     "output_type": "execute_result"
    }
   ],
   "execution_count": 110
  },
  {
   "metadata": {},
   "cell_type": "markdown",
   "source": "Vendo as colunas temos que já começar a entender que tipo de dados elas vão ter, a importância, ordem e fatores sobre esses dados (e se são coerentes com os nomes das colunas)",
   "id": "10e95f15d0fe1a5f"
  },
  {
   "metadata": {
    "ExecuteTime": {
     "end_time": "2024-06-02T22:19:58.644649Z",
     "start_time": "2024-06-02T22:19:58.628112Z"
    }
   },
   "cell_type": "code",
   "source": [
    "# Para termos melhor visualização dos tipos de dados nas colunas usamos:\n",
    "# Dados do tipo object: 99% das vezes são strings.\n",
    "df.info()"
   ],
   "id": "b8999bb7eebfdad5",
   "outputs": [
    {
     "name": "stdout",
     "output_type": "stream",
     "text": [
      "<class 'pandas.core.frame.DataFrame'>\n",
      "RangeIndex: 32960 entries, 0 to 32959\n",
      "Data columns (total 9 columns):\n",
      " #   Column      Non-Null Count  Dtype  \n",
      "---  ------      --------------  -----  \n",
      " 0   Tipo        32960 non-null  object \n",
      " 1   Bairro      32960 non-null  object \n",
      " 2   Quartos     32960 non-null  int64  \n",
      " 3   Vagas       32960 non-null  int64  \n",
      " 4   Suites      32960 non-null  int64  \n",
      " 5   Area        32960 non-null  int64  \n",
      " 6   Valor       32943 non-null  float64\n",
      " 7   Condominio  28867 non-null  float64\n",
      " 8   IPTU        22723 non-null  float64\n",
      "dtypes: float64(3), int64(4), object(2)\n",
      "memory usage: 2.3+ MB\n"
     ]
    }
   ],
   "execution_count": 111
  },
  {
   "metadata": {},
   "cell_type": "markdown",
   "source": [
    "### Desafio!\n",
    "1. Importar arquivo alunos.csv\n",
    "2. Visualizar as 7 primeiras linhas e as 5 últimas\n",
    "3. Verificar quantidade de linhas e colunsa\n",
    "4. Verificar tipos de dados das colunas e printalos\n",
    "5. Calcular estatísticas básicas das colunas"
   ],
   "id": "45db3efbfe63a43d"
  },
  {
   "metadata": {},
   "cell_type": "code",
   "source": [
    "df_alunos = pd.read_csv(\"https://raw.githubusercontent.com/alura-cursos/pandas-conhecendo-a-biblioteca/main/desafios/alunos.csv\")\n",
    "\n",
    "df_alunos.head(7)"
   ],
   "id": "5bdfea63b4998e0",
   "outputs": [],
   "execution_count": null
  },
  {
   "metadata": {},
   "cell_type": "code",
   "source": "df_alunos.tail(5)",
   "id": "88a4f37eb41f29b5",
   "outputs": [],
   "execution_count": null
  },
  {
   "metadata": {},
   "cell_type": "code",
   "source": "print(\"Quantia de colunas: \", len(df_alunos.columns), \" quantia de linhas: \", len(df_alunos.index))",
   "id": "79f2702b8f5acc58",
   "outputs": [],
   "execution_count": null
  },
  {
   "metadata": {},
   "cell_type": "code",
   "source": [
    "df_alunos.info()\n",
    "\n",
    "# Nome -> string\n",
    "# Idade -> inteiro\n",
    "# Notas -> decimal\n",
    "# Aprovado -> booleano"
   ],
   "id": "201b88f7ed638eae",
   "outputs": [],
   "execution_count": null
  },
  {
   "metadata": {},
   "cell_type": "code",
   "source": [
    "import matplotlib.pyplot as plt\n",
    "# Podemos usar o .describe() para fazer o automático mas vou gerar na mão\n",
    "\n",
    "notas_aprovados = df_alunos.query(\"Aprovado == True\")\n",
    "notas_reprovados = df_alunos.query(\"Aprovado == False\")\n",
    "print(f\"Média das notas dos aprovados: {notas_aprovados.Notas.mean()}\")\n",
    "print(f\"Média das notas dos reprovados: {notas_reprovados.Notas.mean()}\")\n",
    "print(f\"Média das notas gerais: {df_alunos.Notas.mean()}\")\n",
    "print(f\"Mediana das notas gerais: {df_alunos.Notas.median()}\")\n",
    "\n",
    "# Frequência de notas da turma\n",
    "df_alunos.plot.hist(x=\"Idade\")"
   ],
   "id": "e23385568038320e",
   "outputs": [],
   "execution_count": null
  },
  {
   "metadata": {},
   "cell_type": "markdown",
   "source": "# Análise exploratória",
   "id": "b4737aa0be7d98d1"
  },
  {
   "metadata": {},
   "cell_type": "markdown",
   "source": "Qual o valor médio de aluguel por tipo de imóvel?",
   "id": "65d11a3ae6eab2c1"
  },
  {
   "metadata": {
    "ExecuteTime": {
     "end_time": "2024-06-02T22:20:02.608242Z",
     "start_time": "2024-06-02T22:20:02.597484Z"
    }
   },
   "cell_type": "code",
   "source": "df.head()",
   "id": "263fa267e6819b6b",
   "outputs": [
    {
     "data": {
      "text/plain": [
       "                      Tipo           Bairro  Quartos  Vagas  Suites  Area  \\\n",
       "0                Quitinete       Copacabana        1      0       0    40   \n",
       "1                     Casa  Jardim Botânico        2      0       1   100   \n",
       "2  Conjunto Comercial/Sala  Barra da Tijuca        0      4       0   150   \n",
       "3              Apartamento           Centro        1      0       0    15   \n",
       "4              Apartamento     Higienópolis        1      0       0    48   \n",
       "\n",
       "    Valor  Condominio    IPTU  \n",
       "0  1700.0       500.0    60.0  \n",
       "1  7000.0         NaN     NaN  \n",
       "2  5200.0      4020.0  1111.0  \n",
       "3   800.0       390.0    20.0  \n",
       "4   800.0       230.0     NaN  "
      ],
      "text/html": [
       "<div>\n",
       "<style scoped>\n",
       "    .dataframe tbody tr th:only-of-type {\n",
       "        vertical-align: middle;\n",
       "    }\n",
       "\n",
       "    .dataframe tbody tr th {\n",
       "        vertical-align: top;\n",
       "    }\n",
       "\n",
       "    .dataframe thead th {\n",
       "        text-align: right;\n",
       "    }\n",
       "</style>\n",
       "<table border=\"1\" class=\"dataframe\">\n",
       "  <thead>\n",
       "    <tr style=\"text-align: right;\">\n",
       "      <th></th>\n",
       "      <th>Tipo</th>\n",
       "      <th>Bairro</th>\n",
       "      <th>Quartos</th>\n",
       "      <th>Vagas</th>\n",
       "      <th>Suites</th>\n",
       "      <th>Area</th>\n",
       "      <th>Valor</th>\n",
       "      <th>Condominio</th>\n",
       "      <th>IPTU</th>\n",
       "    </tr>\n",
       "  </thead>\n",
       "  <tbody>\n",
       "    <tr>\n",
       "      <th>0</th>\n",
       "      <td>Quitinete</td>\n",
       "      <td>Copacabana</td>\n",
       "      <td>1</td>\n",
       "      <td>0</td>\n",
       "      <td>0</td>\n",
       "      <td>40</td>\n",
       "      <td>1700.0</td>\n",
       "      <td>500.0</td>\n",
       "      <td>60.0</td>\n",
       "    </tr>\n",
       "    <tr>\n",
       "      <th>1</th>\n",
       "      <td>Casa</td>\n",
       "      <td>Jardim Botânico</td>\n",
       "      <td>2</td>\n",
       "      <td>0</td>\n",
       "      <td>1</td>\n",
       "      <td>100</td>\n",
       "      <td>7000.0</td>\n",
       "      <td>NaN</td>\n",
       "      <td>NaN</td>\n",
       "    </tr>\n",
       "    <tr>\n",
       "      <th>2</th>\n",
       "      <td>Conjunto Comercial/Sala</td>\n",
       "      <td>Barra da Tijuca</td>\n",
       "      <td>0</td>\n",
       "      <td>4</td>\n",
       "      <td>0</td>\n",
       "      <td>150</td>\n",
       "      <td>5200.0</td>\n",
       "      <td>4020.0</td>\n",
       "      <td>1111.0</td>\n",
       "    </tr>\n",
       "    <tr>\n",
       "      <th>3</th>\n",
       "      <td>Apartamento</td>\n",
       "      <td>Centro</td>\n",
       "      <td>1</td>\n",
       "      <td>0</td>\n",
       "      <td>0</td>\n",
       "      <td>15</td>\n",
       "      <td>800.0</td>\n",
       "      <td>390.0</td>\n",
       "      <td>20.0</td>\n",
       "    </tr>\n",
       "    <tr>\n",
       "      <th>4</th>\n",
       "      <td>Apartamento</td>\n",
       "      <td>Higienópolis</td>\n",
       "      <td>1</td>\n",
       "      <td>0</td>\n",
       "      <td>0</td>\n",
       "      <td>48</td>\n",
       "      <td>800.0</td>\n",
       "      <td>230.0</td>\n",
       "      <td>NaN</td>\n",
       "    </tr>\n",
       "  </tbody>\n",
       "</table>\n",
       "</div>"
      ]
     },
     "execution_count": 112,
     "metadata": {},
     "output_type": "execute_result"
    }
   ],
   "execution_count": 112
  },
  {
   "metadata": {
    "ExecuteTime": {
     "end_time": "2024-06-02T22:20:03.374063Z",
     "start_time": "2024-06-02T22:20:03.367096Z"
    }
   },
   "cell_type": "code",
   "source": [
    "# Colunas importantes: tipos e valor\n",
    "round(df.Valor.mean(), 3)"
   ],
   "id": "76e26ac197fb4b0e",
   "outputs": [
    {
     "data": {
      "text/plain": [
       "12952.66"
      ]
     },
     "execution_count": 113,
     "metadata": {},
     "output_type": "execute_result"
    }
   ],
   "execution_count": 113
  },
  {
   "metadata": {
    "ExecuteTime": {
     "end_time": "2024-06-02T22:20:04.754420Z",
     "start_time": "2024-06-02T22:20:04.740113Z"
    }
   },
   "cell_type": "code",
   "source": [
    "# Precisamos agrupar os dados de media de valor pelo tipo de imóvel\n",
    "# ou seja, agrupamos nosso df sempre por tipo,fazendo a média apenas dos numéricos\n",
    "df.groupby('Tipo').mean(numeric_only=True)['Valor']"
   ],
   "id": "a74b35a1c0f6b2ca",
   "outputs": [
    {
     "data": {
      "text/plain": [
       "Tipo\n",
       "Apartamento                      4744.614648\n",
       "Box/Garagem                      1899.756098\n",
       "Casa                             6793.454922\n",
       "Casa Comercial                  14478.264151\n",
       "Casa de Condomínio              11952.061245\n",
       "Casa de Vila                     1574.369478\n",
       "Chácara                          4900.000000\n",
       "Conjunto Comercial/Sala         14715.045521\n",
       "Flat                             4546.189076\n",
       "Galpão/Depósito/Armazém         53407.062600\n",
       "Hotel                           25000.000000\n",
       "Indústria                      120000.000000\n",
       "Loft                             2557.882353\n",
       "Loja Shopping/ Ct Comercial      8126.178862\n",
       "Loja/Salão                      13769.646770\n",
       "Loteamento/Condomínio           22000.000000\n",
       "Pousada/Chalé                    1480.000000\n",
       "Prédio Inteiro                 498637.239203\n",
       "Quitinete                        1246.840909\n",
       "Studio                           2400.000000\n",
       "Sítio                           12499.000000\n",
       "Terreno Padrão                  32567.714286\n",
       "Name: Valor, dtype: float64"
      ]
     },
     "execution_count": 114,
     "metadata": {},
     "output_type": "execute_result"
    }
   ],
   "execution_count": 114
  },
  {
   "metadata": {
    "ExecuteTime": {
     "end_time": "2024-06-02T22:20:06.196922Z",
     "start_time": "2024-06-02T22:20:06.186953Z"
    }
   },
   "cell_type": "code",
   "source": [
    "# Para uma melhor visualização, vamos transformar a series em um df.\n",
    "preco_tipo = df.groupby('Tipo')[['Valor']].mean().sort_values('Valor')\n",
    "print(preco_tipo)"
   ],
   "id": "52c9b547f2989fc",
   "outputs": [
    {
     "name": "stdout",
     "output_type": "stream",
     "text": [
      "                                     Valor\n",
      "Tipo                                      \n",
      "Quitinete                      1246.840909\n",
      "Pousada/Chalé                  1480.000000\n",
      "Casa de Vila                   1574.369478\n",
      "Box/Garagem                    1899.756098\n",
      "Studio                         2400.000000\n",
      "Loft                           2557.882353\n",
      "Flat                           4546.189076\n",
      "Apartamento                    4744.614648\n",
      "Chácara                        4900.000000\n",
      "Casa                           6793.454922\n",
      "Loja Shopping/ Ct Comercial    8126.178862\n",
      "Casa de Condomínio            11952.061245\n",
      "Sítio                         12499.000000\n",
      "Loja/Salão                    13769.646770\n",
      "Casa Comercial                14478.264151\n",
      "Conjunto Comercial/Sala       14715.045521\n",
      "Loteamento/Condomínio         22000.000000\n",
      "Hotel                         25000.000000\n",
      "Terreno Padrão                32567.714286\n",
      "Galpão/Depósito/Armazém       53407.062600\n",
      "Indústria                    120000.000000\n",
      "Prédio Inteiro               498637.239203\n"
     ]
    }
   ],
   "execution_count": 115
  },
  {
   "metadata": {
    "ExecuteTime": {
     "end_time": "2024-06-02T22:20:07.522637Z",
     "start_time": "2024-06-02T22:20:07.237362Z"
    }
   },
   "cell_type": "code",
   "source": [
    "# Um bom ordenamento, com um agrupamento e visualização especifíca podemos fazer isso...\n",
    "preco_tipo.plot(kind='barh', figsize=(14, 10), color='purple')"
   ],
   "id": "121715cd89ad7f5d",
   "outputs": [
    {
     "data": {
      "text/plain": [
       "<Axes: ylabel='Tipo'>"
      ]
     },
     "execution_count": 116,
     "metadata": {},
     "output_type": "execute_result"
    },
    {
     "data": {
      "text/plain": [
       "<Figure size 1400x1000 with 1 Axes>"
      ],
      "image/png": "[encoded data removed]"
     },
     "metadata": {},
     "output_type": "display_data"
    }
   ],
   "execution_count": 116
  },
  {
   "metadata": {},
   "cell_type": "markdown",
   "source": "# Removendo os imóveis comerciais",
   "id": "4215cb83f6c0de8d"
  },
  {
   "metadata": {},
   "cell_type": "markdown",
   "source": "Supondo que queremos apenas os imóveis residenciais sem ser os comerciais nos nossos dados, como fazer?",
   "id": "9dd2d538d3c8db79"
  },
  {
   "metadata": {
    "ExecuteTime": {
     "end_time": "2024-06-02T22:20:12.689445Z",
     "start_time": "2024-06-02T22:20:12.672733Z"
    }
   },
   "cell_type": "code",
   "source": [
    "# Isso traz cada um dos valores únicos na coluna\n",
    "df.Tipo.unique()"
   ],
   "id": "2191564cc67b37ac",
   "outputs": [
    {
     "data": {
      "text/plain": [
       "array(['Quitinete', 'Casa', 'Conjunto Comercial/Sala', 'Apartamento',\n",
       "       'Casa de Condomínio', 'Prédio Inteiro', 'Flat', 'Loja/Salão',\n",
       "       'Galpão/Depósito/Armazém', 'Casa Comercial', 'Casa de Vila',\n",
       "       'Terreno Padrão', 'Box/Garagem', 'Loft',\n",
       "       'Loja Shopping/ Ct Comercial', 'Chácara', 'Loteamento/Condomínio',\n",
       "       'Sítio', 'Pousada/Chalé', 'Studio', 'Hotel', 'Indústria'],\n",
       "      dtype=object)"
      ]
     },
     "execution_count": 117,
     "metadata": {},
     "output_type": "execute_result"
    }
   ],
   "execution_count": 117
  },
  {
   "metadata": {
    "ExecuteTime": {
     "end_time": "2024-06-02T22:20:13.367350Z",
     "start_time": "2024-06-02T22:20:13.358285Z"
    }
   },
   "cell_type": "code",
   "source": [
    "comerciais = ('Conjunto Comercial/Sala', 'Prédio Inteiro', 'Loja/Salão',\n",
    "       'Galpão/Depósito/Armazém', 'Casa Comercial', 'Terreno Padrão', 'Box/Garagem',\n",
    "       'Loja Shopping/ Ct Comercial', 'Loteamento/Condomínio', 'Sítio', 'Pousada/Chalé', 'Hotel', 'Indústria')\n",
    "df = df.query(\"@comerciais not in Tipo\")"
   ],
   "id": "b7716937322943d5",
   "outputs": [],
   "execution_count": 118
  },
  {
   "metadata": {
    "ExecuteTime": {
     "end_time": "2024-06-02T22:20:14.382067Z",
     "start_time": "2024-06-02T22:20:14.373185Z"
    }
   },
   "cell_type": "code",
   "source": [
    "# Verificando quantos tipos temos\n",
    "df.Tipo.unique"
   ],
   "id": "1b0a54c4afa71286",
   "outputs": [
    {
     "data": {
      "text/plain": [
       "<bound method Series.unique of 0          Quitinete\n",
       "1               Casa\n",
       "3        Apartamento\n",
       "4        Apartamento\n",
       "5        Apartamento\n",
       "            ...     \n",
       "32953    Apartamento\n",
       "32955      Quitinete\n",
       "32956    Apartamento\n",
       "32957    Apartamento\n",
       "32958    Apartamento\n",
       "Name: Tipo, Length: 23112, dtype: object>"
      ]
     },
     "execution_count": 119,
     "metadata": {},
     "output_type": "execute_result"
    }
   ],
   "execution_count": 119
  },
  {
   "metadata": {
    "ExecuteTime": {
     "end_time": "2024-06-02T22:20:15.322589Z",
     "start_time": "2024-06-02T22:20:15.097578Z"
    }
   },
   "cell_type": "code",
   "source": [
    "df_imoveis =  df.groupby('Tipo')[['Valor']].mean().sort_values('Valor')\n",
    "df_imoveis.plot(kind='barh', figsize=(14, 10), color='purple')"
   ],
   "id": "1594b9806ffd50b1",
   "outputs": [
    {
     "data": {
      "text/plain": [
       "<Axes: ylabel='Tipo'>"
      ]
     },
     "execution_count": 120,
     "metadata": {},
     "output_type": "execute_result"
    },
    {
     "data": {
      "text/plain": [
       "<Figure size 1400x1000 with 1 Axes>"
      ],
      "image/png": "[encoded data removed]"
     },
     "metadata": {},
     "output_type": "display_data"
    }
   ],
   "execution_count": 120
  },
  {
   "metadata": {},
   "cell_type": "markdown",
   "source": "E se quisermos saber qual o percentual de cada tipo de imóvel em nossa base (agora já refatorada)?    ",
   "id": "1fc98dfff4155d3c"
  },
  {
   "metadata": {
    "ExecuteTime": {
     "end_time": "2024-06-02T22:20:18.154781Z",
     "start_time": "2024-06-02T22:20:18.146808Z"
    }
   },
   "cell_type": "code",
   "source": "df.Tipo.unique",
   "id": "8b57773024fab370",
   "outputs": [
    {
     "data": {
      "text/plain": [
       "<bound method Series.unique of 0          Quitinete\n",
       "1               Casa\n",
       "3        Apartamento\n",
       "4        Apartamento\n",
       "5        Apartamento\n",
       "            ...     \n",
       "32953    Apartamento\n",
       "32955      Quitinete\n",
       "32956    Apartamento\n",
       "32957    Apartamento\n",
       "32958    Apartamento\n",
       "Name: Tipo, Length: 23112, dtype: object>"
      ]
     },
     "execution_count": 121,
     "metadata": {},
     "output_type": "execute_result"
    }
   ],
   "execution_count": 121
  },
  {
   "metadata": {
    "ExecuteTime": {
     "end_time": "2024-06-02T22:27:05.849678Z",
     "start_time": "2024-06-02T22:27:05.834716Z"
    }
   },
   "cell_type": "code",
   "source": [
    "# Jeito raiz de verificar os percentuais\n",
    "percentuais = []\n",
    "total = df.Tipo.value_counts().sum()\n",
    "for quantia in df.Tipo.value_counts():\n",
    "       percentuais.append(quantia / total)\n",
    "[f\"{round(percentual * 100,2)}%\" for percentual in percentuais]"
   ],
   "id": "3b1eb93636bae7af",
   "outputs": [
    {
     "data": {
      "text/plain": [
       "['84.51%',\n",
       " '4.31%',\n",
       " '4.18%',\n",
       " '3.62%',\n",
       " '2.06%',\n",
       " '1.08%',\n",
       " '0.22%',\n",
       " '0.02%',\n",
       " '0.0%']"
      ]
     },
     "execution_count": 148,
     "metadata": {},
     "output_type": "execute_result"
    }
   ],
   "execution_count": 148
  },
  {
   "metadata": {
    "ExecuteTime": {
     "end_time": "2024-06-02T22:30:34.663459Z",
     "start_time": "2024-06-02T22:30:34.653141Z"
    }
   },
   "cell_type": "code",
   "source": [
    "# Jeito bom de fazer os percentuais, usando o \"normalize\"\n",
    "df_percentual_tipos = df.Tipo.value_counts(normalize=True).to_frame().sort_values(\"proportion\")"
   ],
   "id": "93aa735ac11b004b",
   "outputs": [],
   "execution_count": 154
  },
  {
   "metadata": {
    "ExecuteTime": {
     "end_time": "2024-06-02T22:31:14.652112Z",
     "start_time": "2024-06-02T22:31:14.431278Z"
    }
   },
   "cell_type": "code",
   "source": [
    "df_percentual_tipos.plot(kind='bar', figsize=(14, 10), color='purple',\n",
    "                         xlabel='Tipos', ylabel='Percentual')"
   ],
   "id": "5d3f178d5987a1de",
   "outputs": [
    {
     "data": {
      "text/plain": [
       "<Axes: xlabel='Tipos', ylabel='Percentual'>"
      ]
     },
     "execution_count": 156,
     "metadata": {},
     "output_type": "execute_result"
    },
    {
     "data": {
      "text/plain": [
       "<Figure size 1400x1000 with 1 Axes>"
      ],
      "image/png": "[encoded data removed]"
     },
     "metadata": {},
     "output_type": "display_data"
    }
   ],
   "execution_count": 156
  },
  {
   "metadata": {},
   "cell_type": "markdown",
   "source": "Notamos a massiva superioridade dos apartamentos, com isso vale pesquisarmos mais a fundo sobre eles no nosso banco de dados...",
   "id": "4ff1fc4ed5c9a04d"
  },
  {
   "metadata": {
    "ExecuteTime": {
     "end_time": "2024-06-02T22:54:53.726171Z",
     "start_time": "2024-06-02T22:54:53.717071Z"
    }
   },
   "cell_type": "code",
   "source": [
    "df = df.query(\"Tipo == 'Apartamento'\")\n",
    "df.Valor.mean()"
   ],
   "id": "54d1247fed948c54",
   "outputs": [
    {
     "data": {
      "text/plain": [
       "4805.295740149095"
      ]
     },
     "execution_count": 175,
     "metadata": {},
     "output_type": "execute_result"
    }
   ],
   "execution_count": 175
  },
  {
   "metadata": {},
   "cell_type": "markdown",
   "source": "# Tratamento de dados nulos",
   "id": "1b103fc8ad93b5e0"
  },
  {
   "metadata": {
    "ExecuteTime": {
     "end_time": "2024-06-02T22:54:56.042374Z",
     "start_time": "2024-06-02T22:54:56.030782Z"
    }
   },
   "cell_type": "code",
   "source": "df.head()",
   "id": "4ba31fc30f575c3b",
   "outputs": [
    {
     "data": {
      "text/plain": [
       "           Tipo               Bairro  Quartos  Vagas  Suites  Area   Valor  \\\n",
       "3   Apartamento               Centro        1      0       0    15   800.0   \n",
       "4   Apartamento         Higienópolis        1      0       0    48   800.0   \n",
       "6   Apartamento             Cachambi        2      0       0    50  1300.0   \n",
       "11  Apartamento               Grajaú        2      1       0    70  1500.0   \n",
       "12  Apartamento  Lins de Vasconcelos        3      1       1    90  1500.0   \n",
       "\n",
       "    Condominio  IPTU  \n",
       "3        390.0  20.0  \n",
       "4        230.0   0.0  \n",
       "6        301.0  17.0  \n",
       "11       642.0  74.0  \n",
       "12       455.0  14.0  "
      ],
      "text/html": [
       "<div>\n",
       "<style scoped>\n",
       "    .dataframe tbody tr th:only-of-type {\n",
       "        vertical-align: middle;\n",
       "    }\n",
       "\n",
       "    .dataframe tbody tr th {\n",
       "        vertical-align: top;\n",
       "    }\n",
       "\n",
       "    .dataframe thead th {\n",
       "        text-align: right;\n",
       "    }\n",
       "</style>\n",
       "<table border=\"1\" class=\"dataframe\">\n",
       "  <thead>\n",
       "    <tr style=\"text-align: right;\">\n",
       "      <th></th>\n",
       "      <th>Tipo</th>\n",
       "      <th>Bairro</th>\n",
       "      <th>Quartos</th>\n",
       "      <th>Vagas</th>\n",
       "      <th>Suites</th>\n",
       "      <th>Area</th>\n",
       "      <th>Valor</th>\n",
       "      <th>Condominio</th>\n",
       "      <th>IPTU</th>\n",
       "    </tr>\n",
       "  </thead>\n",
       "  <tbody>\n",
       "    <tr>\n",
       "      <th>3</th>\n",
       "      <td>Apartamento</td>\n",
       "      <td>Centro</td>\n",
       "      <td>1</td>\n",
       "      <td>0</td>\n",
       "      <td>0</td>\n",
       "      <td>15</td>\n",
       "      <td>800.0</td>\n",
       "      <td>390.0</td>\n",
       "      <td>20.0</td>\n",
       "    </tr>\n",
       "    <tr>\n",
       "      <th>4</th>\n",
       "      <td>Apartamento</td>\n",
       "      <td>Higienópolis</td>\n",
       "      <td>1</td>\n",
       "      <td>0</td>\n",
       "      <td>0</td>\n",
       "      <td>48</td>\n",
       "      <td>800.0</td>\n",
       "      <td>230.0</td>\n",
       "      <td>0.0</td>\n",
       "    </tr>\n",
       "    <tr>\n",
       "      <th>6</th>\n",
       "      <td>Apartamento</td>\n",
       "      <td>Cachambi</td>\n",
       "      <td>2</td>\n",
       "      <td>0</td>\n",
       "      <td>0</td>\n",
       "      <td>50</td>\n",
       "      <td>1300.0</td>\n",
       "      <td>301.0</td>\n",
       "      <td>17.0</td>\n",
       "    </tr>\n",
       "    <tr>\n",
       "      <th>11</th>\n",
       "      <td>Apartamento</td>\n",
       "      <td>Grajaú</td>\n",
       "      <td>2</td>\n",
       "      <td>1</td>\n",
       "      <td>0</td>\n",
       "      <td>70</td>\n",
       "      <td>1500.0</td>\n",
       "      <td>642.0</td>\n",
       "      <td>74.0</td>\n",
       "    </tr>\n",
       "    <tr>\n",
       "      <th>12</th>\n",
       "      <td>Apartamento</td>\n",
       "      <td>Lins de Vasconcelos</td>\n",
       "      <td>3</td>\n",
       "      <td>1</td>\n",
       "      <td>1</td>\n",
       "      <td>90</td>\n",
       "      <td>1500.0</td>\n",
       "      <td>455.0</td>\n",
       "      <td>14.0</td>\n",
       "    </tr>\n",
       "  </tbody>\n",
       "</table>\n",
       "</div>"
      ]
     },
     "execution_count": 176,
     "metadata": {},
     "output_type": "execute_result"
    }
   ],
   "execution_count": 176
  },
  {
   "metadata": {
    "ExecuteTime": {
     "end_time": "2024-06-02T22:54:57.384091Z",
     "start_time": "2024-06-02T22:54:57.375843Z"
    }
   },
   "cell_type": "code",
   "source": [
    "# Nos traz a quantidade de dados nulos existentes em cada coluna\n",
    "df.isnull().sum()"
   ],
   "id": "1d1788c14566adae",
   "outputs": [
    {
     "data": {
      "text/plain": [
       "Tipo          0\n",
       "Bairro        0\n",
       "Quartos       0\n",
       "Vagas         0\n",
       "Suites        0\n",
       "Area          0\n",
       "Valor         0\n",
       "Condominio    0\n",
       "IPTU          0\n",
       "dtype: int64"
      ]
     },
     "execution_count": 177,
     "metadata": {},
     "output_type": "execute_result"
    }
   ],
   "execution_count": 177
  },
  {
   "metadata": {},
   "cell_type": "markdown",
   "source": "Agora temos que pensar na abordagem de tratamento desses valores nulos, podemos ver que todas colunas com valores nulos, então podemos utilizar o 0. Isso deve ser pensando e discutido com o time de dados de como lidar da melhor forma.",
   "id": "4220aeb2c2477ab1"
  },
  {
   "metadata": {
    "ExecuteTime": {
     "end_time": "2024-06-02T22:55:01.033068Z",
     "start_time": "2024-06-02T22:55:01.024108Z"
    }
   },
   "cell_type": "code",
   "source": [
    "# Ele pega cada valor NaN ou Null e transforma no valor do p. passado\n",
    "df = df.fillna(0)\n",
    "df.isnull().sum()"
   ],
   "id": "a0da8d6b54c38e48",
   "outputs": [
    {
     "data": {
      "text/plain": [
       "Tipo          0\n",
       "Bairro        0\n",
       "Quartos       0\n",
       "Vagas         0\n",
       "Suites        0\n",
       "Area          0\n",
       "Valor         0\n",
       "Condominio    0\n",
       "IPTU          0\n",
       "dtype: int64"
      ]
     },
     "execution_count": 178,
     "metadata": {},
     "output_type": "execute_result"
    }
   ],
   "execution_count": 178
  },
  {
   "metadata": {},
   "cell_type": "markdown",
   "source": [
    "Algumas outras formas de tratar dados nulos:\n",
    "* dropna() isso remove as linhas ou colunas com dados nulos.\n",
    "* interpolate() esse preenche o valor nulo baseado no valor do \"vizinho não nulo\"."
   ],
   "id": "d6675dfa4e50c479"
  },
  {
   "metadata": {},
   "cell_type": "markdown",
   "source": "# Removendo registros não necessários",
   "id": "611c5785df34adf3"
  },
  {
   "metadata": {},
   "cell_type": "markdown",
   "source": "Alguns registros como com o aluguel 0 ou o valor do condomínio igual a 0 não são necessários para nosso df. Vamos remover eles.",
   "id": "cf29ec1f051f2f76"
  },
  {
   "metadata": {
    "ExecuteTime": {
     "end_time": "2024-06-02T22:55:04.324219Z",
     "start_time": "2024-06-02T22:55:04.311300Z"
    }
   },
   "cell_type": "code",
   "source": [
    "registros_a_remover = df.query(\"Valor == 0 | Condominio == 0\").index\n",
    "\n",
    "# Axis -> 0: Quero remover linhas; 1: Quero remover colunas.\n",
    "# Inplace = True; atualiza nosso df após isso\n",
    "df.drop(registros_a_remover, axis=0, inplace=True)"
   ],
   "id": "8d21faac1da208a8",
   "outputs": [],
   "execution_count": 179
  },
  {
   "metadata": {
    "ExecuteTime": {
     "end_time": "2024-06-02T22:55:06.363870Z",
     "start_time": "2024-06-02T22:55:06.345815Z"
    }
   },
   "cell_type": "code",
   "source": [
    "# Verificando que foram removidas\n",
    "df.query(\"Valor == 0 | Condominio == 0\")"
   ],
   "id": "2b51bc84e739883a",
   "outputs": [
    {
     "data": {
      "text/plain": [
       "Empty DataFrame\n",
       "Columns: [Tipo, Bairro, Quartos, Vagas, Suites, Area, Valor, Condominio, IPTU]\n",
       "Index: []"
      ],
      "text/html": [
       "<div>\n",
       "<style scoped>\n",
       "    .dataframe tbody tr th:only-of-type {\n",
       "        vertical-align: middle;\n",
       "    }\n",
       "\n",
       "    .dataframe tbody tr th {\n",
       "        vertical-align: top;\n",
       "    }\n",
       "\n",
       "    .dataframe thead th {\n",
       "        text-align: right;\n",
       "    }\n",
       "</style>\n",
       "<table border=\"1\" class=\"dataframe\">\n",
       "  <thead>\n",
       "    <tr style=\"text-align: right;\">\n",
       "      <th></th>\n",
       "      <th>Tipo</th>\n",
       "      <th>Bairro</th>\n",
       "      <th>Quartos</th>\n",
       "      <th>Vagas</th>\n",
       "      <th>Suites</th>\n",
       "      <th>Area</th>\n",
       "      <th>Valor</th>\n",
       "      <th>Condominio</th>\n",
       "      <th>IPTU</th>\n",
       "    </tr>\n",
       "  </thead>\n",
       "  <tbody>\n",
       "  </tbody>\n",
       "</table>\n",
       "</div>"
      ]
     },
     "execution_count": 180,
     "metadata": {},
     "output_type": "execute_result"
    }
   ],
   "execution_count": 180
  },
  {
   "metadata": {},
   "cell_type": "markdown",
   "source": "Outras questões, em DF's obvios, como o nosso, onde temos (apos tratar) apenas um tipo (Apenas apartamentos) não é mais necessário a coluna tipo, ela apenas \"suja\" o DF.",
   "id": "9cb5addd1cc6331"
  },
  {
   "metadata": {
    "ExecuteTime": {
     "end_time": "2024-06-02T22:55:09.586114Z",
     "start_time": "2024-06-02T22:55:09.576969Z"
    }
   },
   "cell_type": "code",
   "source": "df.Tipo.unique()",
   "id": "9f78821b53eaf1e9",
   "outputs": [
    {
     "data": {
      "text/plain": [
       "array(['Apartamento'], dtype=object)"
      ]
     },
     "execution_count": 181,
     "metadata": {},
     "output_type": "execute_result"
    }
   ],
   "execution_count": 181
  },
  {
   "metadata": {},
   "cell_type": "code",
   "outputs": [
    {
     "data": {
      "text/plain": [
       "                 Bairro  Quartos  Vagas  Suites  Area   Valor  Condominio  \\\n",
       "3                Centro        1      0       0    15   800.0       390.0   \n",
       "4          Higienópolis        1      0       0    48   800.0       230.0   \n",
       "6              Cachambi        2      0       0    50  1300.0       301.0   \n",
       "11               Grajaú        2      1       0    70  1500.0       642.0   \n",
       "12  Lins de Vasconcelos        3      1       1    90  1500.0       455.0   \n",
       "\n",
       "    IPTU  \n",
       "3   20.0  \n",
       "4    0.0  \n",
       "6   17.0  \n",
       "11  74.0  \n",
       "12  14.0  "
      ],
      "text/html": [
       "<div>\n",
       "<style scoped>\n",
       "    .dataframe tbody tr th:only-of-type {\n",
       "        vertical-align: middle;\n",
       "    }\n",
       "\n",
       "    .dataframe tbody tr th {\n",
       "        vertical-align: top;\n",
       "    }\n",
       "\n",
       "    .dataframe thead th {\n",
       "        text-align: right;\n",
       "    }\n",
       "</style>\n",
       "<table border=\"1\" class=\"dataframe\">\n",
       "  <thead>\n",
       "    <tr style=\"text-align: right;\">\n",
       "      <th></th>\n",
       "      <th>Bairro</th>\n",
       "      <th>Quartos</th>\n",
       "      <th>Vagas</th>\n",
       "      <th>Suites</th>\n",
       "      <th>Area</th>\n",
       "      <th>Valor</th>\n",
       "      <th>Condominio</th>\n",
       "      <th>IPTU</th>\n",
       "    </tr>\n",
       "  </thead>\n",
       "  <tbody>\n",
       "    <tr>\n",
       "      <th>3</th>\n",
       "      <td>Centro</td>\n",
       "      <td>1</td>\n",
       "      <td>0</td>\n",
       "      <td>0</td>\n",
       "      <td>15</td>\n",
       "      <td>800.0</td>\n",
       "      <td>390.0</td>\n",
       "      <td>20.0</td>\n",
       "    </tr>\n",
       "    <tr>\n",
       "      <th>4</th>\n",
       "      <td>Higienópolis</td>\n",
       "      <td>1</td>\n",
       "      <td>0</td>\n",
       "      <td>0</td>\n",
       "      <td>48</td>\n",
       "      <td>800.0</td>\n",
       "      <td>230.0</td>\n",
       "      <td>0.0</td>\n",
       "    </tr>\n",
       "    <tr>\n",
       "      <th>6</th>\n",
       "      <td>Cachambi</td>\n",
       "      <td>2</td>\n",
       "      <td>0</td>\n",
       "      <td>0</td>\n",
       "      <td>50</td>\n",
       "      <td>1300.0</td>\n",
       "      <td>301.0</td>\n",
       "      <td>17.0</td>\n",
       "    </tr>\n",
       "    <tr>\n",
       "      <th>11</th>\n",
       "      <td>Grajaú</td>\n",
       "      <td>2</td>\n",
       "      <td>1</td>\n",
       "      <td>0</td>\n",
       "      <td>70</td>\n",
       "      <td>1500.0</td>\n",
       "      <td>642.0</td>\n",
       "      <td>74.0</td>\n",
       "    </tr>\n",
       "    <tr>\n",
       "      <th>12</th>\n",
       "      <td>Lins de Vasconcelos</td>\n",
       "      <td>3</td>\n",
       "      <td>1</td>\n",
       "      <td>1</td>\n",
       "      <td>90</td>\n",
       "      <td>1500.0</td>\n",
       "      <td>455.0</td>\n",
       "      <td>14.0</td>\n",
       "    </tr>\n",
       "  </tbody>\n",
       "</table>\n",
       "</div>"
      ]
     },
     "execution_count": 182,
     "metadata": {},
     "output_type": "execute_result"
    }
   ],
   "execution_count": 182,
   "source": [
    "df.drop('Tipo', axis=1, inplace=True)\n",
    "df.head()"
   ],
   "id": "f6b637f2f07e6ae5"
  },
  {
   "metadata": {},
   "cell_type": "markdown",
   "source": "Fazendo filtragens",
   "id": "ac7f3461e0e9b34"
  },
  {
   "metadata": {},
   "cell_type": "code",
   "outputs": [
    {
     "data": {
      "text/plain": [
       "             Bairro  Quartos  Vagas  Suites  Area   Valor  Condominio   IPTU\n",
       "3            Centro        1      0       0    15   800.0       390.0   20.0\n",
       "4      Higienópolis        1      0       0    48   800.0       230.0    0.0\n",
       "28           Tijuca        1      0       0    48   750.0       772.0   25.0\n",
       "54           Centro        1      0       0    27   750.0       371.0   19.0\n",
       "94           Centro        1      1       0    37  1100.0       540.0  900.0\n",
       "...             ...      ...    ...     ...   ...     ...         ...    ...\n",
       "32596        Grajaú        1      0       1    37  1000.0       200.0    0.0\n",
       "32617     Pechincha        1      0       1    69   900.0       640.0  126.0\n",
       "32627        Glória        1      0       0    46  1100.0       453.0   32.0\n",
       "32714      Botafogo        1      0       0    21  1000.0       282.0   25.0\n",
       "32950        Tijuca        1      0       0    28  1000.0       360.0   25.0\n",
       "\n",
       "[499 rows x 8 columns]"
      ],
      "text/html": [
       "<div>\n",
       "<style scoped>\n",
       "    .dataframe tbody tr th:only-of-type {\n",
       "        vertical-align: middle;\n",
       "    }\n",
       "\n",
       "    .dataframe tbody tr th {\n",
       "        vertical-align: top;\n",
       "    }\n",
       "\n",
       "    .dataframe thead th {\n",
       "        text-align: right;\n",
       "    }\n",
       "</style>\n",
       "<table border=\"1\" class=\"dataframe\">\n",
       "  <thead>\n",
       "    <tr style=\"text-align: right;\">\n",
       "      <th></th>\n",
       "      <th>Bairro</th>\n",
       "      <th>Quartos</th>\n",
       "      <th>Vagas</th>\n",
       "      <th>Suites</th>\n",
       "      <th>Area</th>\n",
       "      <th>Valor</th>\n",
       "      <th>Condominio</th>\n",
       "      <th>IPTU</th>\n",
       "    </tr>\n",
       "  </thead>\n",
       "  <tbody>\n",
       "    <tr>\n",
       "      <th>3</th>\n",
       "      <td>Centro</td>\n",
       "      <td>1</td>\n",
       "      <td>0</td>\n",
       "      <td>0</td>\n",
       "      <td>15</td>\n",
       "      <td>800.0</td>\n",
       "      <td>390.0</td>\n",
       "      <td>20.0</td>\n",
       "    </tr>\n",
       "    <tr>\n",
       "      <th>4</th>\n",
       "      <td>Higienópolis</td>\n",
       "      <td>1</td>\n",
       "      <td>0</td>\n",
       "      <td>0</td>\n",
       "      <td>48</td>\n",
       "      <td>800.0</td>\n",
       "      <td>230.0</td>\n",
       "      <td>0.0</td>\n",
       "    </tr>\n",
       "    <tr>\n",
       "      <th>28</th>\n",
       "      <td>Tijuca</td>\n",
       "      <td>1</td>\n",
       "      <td>0</td>\n",
       "      <td>0</td>\n",
       "      <td>48</td>\n",
       "      <td>750.0</td>\n",
       "      <td>772.0</td>\n",
       "      <td>25.0</td>\n",
       "    </tr>\n",
       "    <tr>\n",
       "      <th>54</th>\n",
       "      <td>Centro</td>\n",
       "      <td>1</td>\n",
       "      <td>0</td>\n",
       "      <td>0</td>\n",
       "      <td>27</td>\n",
       "      <td>750.0</td>\n",
       "      <td>371.0</td>\n",
       "      <td>19.0</td>\n",
       "    </tr>\n",
       "    <tr>\n",
       "      <th>94</th>\n",
       "      <td>Centro</td>\n",
       "      <td>1</td>\n",
       "      <td>1</td>\n",
       "      <td>0</td>\n",
       "      <td>37</td>\n",
       "      <td>1100.0</td>\n",
       "      <td>540.0</td>\n",
       "      <td>900.0</td>\n",
       "    </tr>\n",
       "    <tr>\n",
       "      <th>...</th>\n",
       "      <td>...</td>\n",
       "      <td>...</td>\n",
       "      <td>...</td>\n",
       "      <td>...</td>\n",
       "      <td>...</td>\n",
       "      <td>...</td>\n",
       "      <td>...</td>\n",
       "      <td>...</td>\n",
       "    </tr>\n",
       "    <tr>\n",
       "      <th>32596</th>\n",
       "      <td>Grajaú</td>\n",
       "      <td>1</td>\n",
       "      <td>0</td>\n",
       "      <td>1</td>\n",
       "      <td>37</td>\n",
       "      <td>1000.0</td>\n",
       "      <td>200.0</td>\n",
       "      <td>0.0</td>\n",
       "    </tr>\n",
       "    <tr>\n",
       "      <th>32617</th>\n",
       "      <td>Pechincha</td>\n",
       "      <td>1</td>\n",
       "      <td>0</td>\n",
       "      <td>1</td>\n",
       "      <td>69</td>\n",
       "      <td>900.0</td>\n",
       "      <td>640.0</td>\n",
       "      <td>126.0</td>\n",
       "    </tr>\n",
       "    <tr>\n",
       "      <th>32627</th>\n",
       "      <td>Glória</td>\n",
       "      <td>1</td>\n",
       "      <td>0</td>\n",
       "      <td>0</td>\n",
       "      <td>46</td>\n",
       "      <td>1100.0</td>\n",
       "      <td>453.0</td>\n",
       "      <td>32.0</td>\n",
       "    </tr>\n",
       "    <tr>\n",
       "      <th>32714</th>\n",
       "      <td>Botafogo</td>\n",
       "      <td>1</td>\n",
       "      <td>0</td>\n",
       "      <td>0</td>\n",
       "      <td>21</td>\n",
       "      <td>1000.0</td>\n",
       "      <td>282.0</td>\n",
       "      <td>25.0</td>\n",
       "    </tr>\n",
       "    <tr>\n",
       "      <th>32950</th>\n",
       "      <td>Tijuca</td>\n",
       "      <td>1</td>\n",
       "      <td>0</td>\n",
       "      <td>0</td>\n",
       "      <td>28</td>\n",
       "      <td>1000.0</td>\n",
       "      <td>360.0</td>\n",
       "      <td>25.0</td>\n",
       "    </tr>\n",
       "  </tbody>\n",
       "</table>\n",
       "<p>499 rows × 8 columns</p>\n",
       "</div>"
      ]
     },
     "execution_count": 183,
     "metadata": {},
     "output_type": "execute_result"
    }
   ],
   "execution_count": 183,
   "source": "df.query('Quartos == 1 & Valor < 1200')",
   "id": "49204fbe85ac26ab"
  },
  {
   "metadata": {},
   "cell_type": "code",
   "outputs": [
    {
     "data": {
      "text/plain": [
       "                         Bairro  Quartos  Vagas  Suites  Area   Valor  \\\n",
       "12          Lins de Vasconcelos        3      1       1    90  1500.0   \n",
       "21                       Tijuca        2      1       0   110  1900.0   \n",
       "24                       Tijuca        2      1       0    78  2000.0   \n",
       "32                     Botafogo        2      1       0    76  2500.0   \n",
       "36     Recreio dos Bandeirantes        3      1       1   105  2300.0   \n",
       "...                         ...      ...    ...     ...   ...     ...   \n",
       "32934               Jacarepaguá        2      1       1    78  2200.0   \n",
       "32940           Barra da Tijuca        2      1       1    85  2250.0   \n",
       "32941           Barra da Tijuca        3      2       0    98  2300.0   \n",
       "32944  Recreio dos Bandeirantes        3      2       1    88  1550.0   \n",
       "32956               Jacarepaguá        3      1       2    78  1800.0   \n",
       "\n",
       "       Condominio   IPTU  \n",
       "12          455.0   14.0  \n",
       "21          700.0  138.0  \n",
       "24          700.0    0.0  \n",
       "32          740.0    0.0  \n",
       "36          648.0    0.0  \n",
       "...           ...    ...  \n",
       "32934       790.0  180.0  \n",
       "32940      1561.0  197.0  \n",
       "32941       887.0  177.0  \n",
       "32944       790.0    0.0  \n",
       "32956       800.0   40.0  \n",
       "\n",
       "[4459 rows x 8 columns]"
      ],
      "text/html": [
       "<div>\n",
       "<style scoped>\n",
       "    .dataframe tbody tr th:only-of-type {\n",
       "        vertical-align: middle;\n",
       "    }\n",
       "\n",
       "    .dataframe tbody tr th {\n",
       "        vertical-align: top;\n",
       "    }\n",
       "\n",
       "    .dataframe thead th {\n",
       "        text-align: right;\n",
       "    }\n",
       "</style>\n",
       "<table border=\"1\" class=\"dataframe\">\n",
       "  <thead>\n",
       "    <tr style=\"text-align: right;\">\n",
       "      <th></th>\n",
       "      <th>Bairro</th>\n",
       "      <th>Quartos</th>\n",
       "      <th>Vagas</th>\n",
       "      <th>Suites</th>\n",
       "      <th>Area</th>\n",
       "      <th>Valor</th>\n",
       "      <th>Condominio</th>\n",
       "      <th>IPTU</th>\n",
       "    </tr>\n",
       "  </thead>\n",
       "  <tbody>\n",
       "    <tr>\n",
       "      <th>12</th>\n",
       "      <td>Lins de Vasconcelos</td>\n",
       "      <td>3</td>\n",
       "      <td>1</td>\n",
       "      <td>1</td>\n",
       "      <td>90</td>\n",
       "      <td>1500.0</td>\n",
       "      <td>455.0</td>\n",
       "      <td>14.0</td>\n",
       "    </tr>\n",
       "    <tr>\n",
       "      <th>21</th>\n",
       "      <td>Tijuca</td>\n",
       "      <td>2</td>\n",
       "      <td>1</td>\n",
       "      <td>0</td>\n",
       "      <td>110</td>\n",
       "      <td>1900.0</td>\n",
       "      <td>700.0</td>\n",
       "      <td>138.0</td>\n",
       "    </tr>\n",
       "    <tr>\n",
       "      <th>24</th>\n",
       "      <td>Tijuca</td>\n",
       "      <td>2</td>\n",
       "      <td>1</td>\n",
       "      <td>0</td>\n",
       "      <td>78</td>\n",
       "      <td>2000.0</td>\n",
       "      <td>700.0</td>\n",
       "      <td>0.0</td>\n",
       "    </tr>\n",
       "    <tr>\n",
       "      <th>32</th>\n",
       "      <td>Botafogo</td>\n",
       "      <td>2</td>\n",
       "      <td>1</td>\n",
       "      <td>0</td>\n",
       "      <td>76</td>\n",
       "      <td>2500.0</td>\n",
       "      <td>740.0</td>\n",
       "      <td>0.0</td>\n",
       "    </tr>\n",
       "    <tr>\n",
       "      <th>36</th>\n",
       "      <td>Recreio dos Bandeirantes</td>\n",
       "      <td>3</td>\n",
       "      <td>1</td>\n",
       "      <td>1</td>\n",
       "      <td>105</td>\n",
       "      <td>2300.0</td>\n",
       "      <td>648.0</td>\n",
       "      <td>0.0</td>\n",
       "    </tr>\n",
       "    <tr>\n",
       "      <th>...</th>\n",
       "      <td>...</td>\n",
       "      <td>...</td>\n",
       "      <td>...</td>\n",
       "      <td>...</td>\n",
       "      <td>...</td>\n",
       "      <td>...</td>\n",
       "      <td>...</td>\n",
       "      <td>...</td>\n",
       "    </tr>\n",
       "    <tr>\n",
       "      <th>32934</th>\n",
       "      <td>Jacarepaguá</td>\n",
       "      <td>2</td>\n",
       "      <td>1</td>\n",
       "      <td>1</td>\n",
       "      <td>78</td>\n",
       "      <td>2200.0</td>\n",
       "      <td>790.0</td>\n",
       "      <td>180.0</td>\n",
       "    </tr>\n",
       "    <tr>\n",
       "      <th>32940</th>\n",
       "      <td>Barra da Tijuca</td>\n",
       "      <td>2</td>\n",
       "      <td>1</td>\n",
       "      <td>1</td>\n",
       "      <td>85</td>\n",
       "      <td>2250.0</td>\n",
       "      <td>1561.0</td>\n",
       "      <td>197.0</td>\n",
       "    </tr>\n",
       "    <tr>\n",
       "      <th>32941</th>\n",
       "      <td>Barra da Tijuca</td>\n",
       "      <td>3</td>\n",
       "      <td>2</td>\n",
       "      <td>0</td>\n",
       "      <td>98</td>\n",
       "      <td>2300.0</td>\n",
       "      <td>887.0</td>\n",
       "      <td>177.0</td>\n",
       "    </tr>\n",
       "    <tr>\n",
       "      <th>32944</th>\n",
       "      <td>Recreio dos Bandeirantes</td>\n",
       "      <td>3</td>\n",
       "      <td>2</td>\n",
       "      <td>1</td>\n",
       "      <td>88</td>\n",
       "      <td>1550.0</td>\n",
       "      <td>790.0</td>\n",
       "      <td>0.0</td>\n",
       "    </tr>\n",
       "    <tr>\n",
       "      <th>32956</th>\n",
       "      <td>Jacarepaguá</td>\n",
       "      <td>3</td>\n",
       "      <td>1</td>\n",
       "      <td>2</td>\n",
       "      <td>78</td>\n",
       "      <td>1800.0</td>\n",
       "      <td>800.0</td>\n",
       "      <td>40.0</td>\n",
       "    </tr>\n",
       "  </tbody>\n",
       "</table>\n",
       "<p>4459 rows × 8 columns</p>\n",
       "</div>"
      ]
     },
     "execution_count": 184,
     "metadata": {},
     "output_type": "execute_result"
    }
   ],
   "execution_count": 184,
   "source": "df.query('Quartos >= 2 & Valor < 3000 & Area > 70')",
   "id": "d28dc4cd51cbc21b"
  },
  {
   "metadata": {},
   "cell_type": "markdown",
   "source": "# Salvando os dados",
   "id": "33ae51e803af237"
  },
  {
   "metadata": {},
   "cell_type": "markdown",
   "source": "Naturalmente, após finalizar os tratamentos, visualizações e etc. Pode ser necessário salvarmos os dados novamente para podermos usar em outro notebook ou projeto, vamos la...",
   "id": "58d236a00d7acfb5"
  },
  {
   "metadata": {
    "ExecuteTime": {
     "end_time": "2024-06-02T23:17:50.363361Z",
     "start_time": "2024-06-02T23:17:50.277435Z"
    }
   },
   "cell_type": "code",
   "source": [
    "df.to_csv('data/dados_apartamentos.csv', index=False)\n",
    "\n",
    "# E pronto! :)"
   ],
   "id": "a1fa9559a49b1220",
   "outputs": [],
   "execution_count": 187
  }
 ],
 "metadata": {
  "kernelspec": {
   "display_name": "Python 3",
   "language": "python",
   "name": "python3"
  },
  "language_info": {
   "codemirror_mode": {
    "name": "ipython",
    "version": 2
   },
   "file_extension": ".py",
   "mimetype": "text/x-python",
   "name": "python",
   "nbconvert_exporter": "python",
   "pygments_lexer": "ipython2",
   "version": "2.7.6"
  }
 },
 "nbformat": 4,
 "nbformat_minor": 5
}
